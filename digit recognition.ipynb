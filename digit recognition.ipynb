{
 "cells": [
  {
   "cell_type": "code",
   "execution_count": 1,
   "metadata": {},
   "outputs": [],
   "source": [
    "#1.downlowd the database of images from mnist website\n",
    "import numpy as np\n",
    "from numpy import reshape\n",
    "import os\n",
    "def load_dataset():\n",
    "    def download(filename,source=\"http://yann.lecun.com/exdb/mnist/\"):\n",
    "        print(\"Downloading\",filename)\n",
    "        import urllib\n",
    "        #from urllib import urlretrieve\n",
    "        urllib.request.urlretrieve(source+filename,filename)\n",
    "        #this will download the file to local memory\n",
    "    import gzip\n",
    "    \n",
    "    def load_mnist_images(filename):\n",
    "        #checks if file is already there on loaal disk or not if not it will download\n",
    "        if not os.path.exists(filename):\n",
    "            download(filename)\n",
    "        with gzip.open(filename,'rb') as f:\n",
    "            #open the zip file of images\n",
    "            data=np.frombuffer(f.read(), np.uint8, offset=16)\n",
    "            #this is some boilerplate to extract data from zip file\n",
    "            #converting array into images. Each image has 28x28 pixes,its a monochrome image so only 1 channel(using reshape)\n",
    "            data=data.reshape(-1,1,28,28)\n",
    "            #1st-no of images\n",
    "            #2nd-no of channels\n",
    "            #3,4th-pixels\n",
    "        return data/np.float32(256)#this will convert byte to float\n",
    "    def load_mnist_labels(filename):\n",
    "        if not os.path.exists(filename):\n",
    "            download(filename)\n",
    "        with gzip.open(filename,'rb') as f:\n",
    "            #open the zip file of images\n",
    "            data=np.frombuffer(f.read(), np.uint8, offset=16)\n",
    "            #data=data.reshape(-1,1,28,28)\n",
    "        return data\n",
    "    x_train=load_mnist_images('train-images-idx3-ubyte.gz')\n",
    "    y_train=load_mnist_labels('train-labels-idx1-ubyte.gz')\n",
    "    x_test=load_mnist_images('t10k-images-idx3-ubyte.gz')\n",
    "    y_test=load_mnist_labels('t10k-labels-idx1-ubyte.gz')\n",
    "    return x_train,y_train,x_test,y_test\n",
    "xtr,ytr,xtes,ytes=load_dataset()\n",
    "#2.set up a nueral network with req no of layers and node\n",
    "#train the network\n",
    "#3.feed in the training data\n",
    "#4.how the output is for 1 image\n",
    "#5.feedind a test data set to trained nueral network"
   ]
  },
  {
   "cell_type": "code",
   "execution_count": 2,
   "metadata": {},
   "outputs": [
    {
     "name": "stderr",
     "output_type": "stream",
     "text": [
      "<ipython-input-2-328443c013b6>:6: MatplotlibDeprecationWarning: Passing the block parameter of show() positionally is deprecated since Matplotlib 3.1; the parameter will become keyword-only in 3.3.\n",
      "  plt.show(plt.imshow(xtr[0][0]))\n"
     ]
    }
   ],
   "source": [
    "#we've got the data now we want to test it using one of the images using matplotlib\n",
    "import matplotlib\n",
    "matplotlib.use('TkAgg')#this is setting for matplotlib to render images\n",
    "\n",
    "import matplotlib.pyplot as plt\n",
    "plt.show(plt.imshow(xtr[0][0]))"
   ]
  },
  {
   "cell_type": "code",
   "execution_count": 4,
   "metadata": {},
   "outputs": [],
   "source": [
    "#we are going to use 2 python packages-theano and lasagne\n",
    "#theano-is a mathematical package that allows u to define and perform mathematical computations just like numpy but at\n",
    "#higher dimension arrays and these are called tensors\n",
    "#lasagne ia a library that is built on theono to build nueral networks. it comes with functions to set up layers,define error functions\n",
    "#and how the training of nueral network would be\n",
    "import lasagne\n",
    "from lasagne.utils import int_types\n",
    "import theano\n",
    "import theano.tensor as T\n",
    "def build_NN(input_var=None):\n",
    "    #we are going to build a nueral network with 2 hidden layers of 800 nodes each the o/p layer will have 10 node\n",
    "    #ranging from 0-9 the node with max value is the predicted output\n",
    "    \n",
    "    #input layer has 784 nodes that is of shape 1x28x28 (1-channel)\n",
    "    l_in=lasagne.layers.InputLayer(shape=(None,1,28,28),input_var=input_var)\n",
    "    #there will be 20% dropout-to avoid overfitting\n",
    "    l_in_drop=lasagne.layers.DropoutLayer(l_in,p=0.2)\n",
    "    #add alayer with 800 nodes. Initially this will be dense/fully-connected\n",
    "    l_hid1=lasagne.layers.DenseLayer(l_in_drop,num_units=800,nonlinearity=lasagne.nonlinearities.rectify,W=lasagne.init.GlorotUniform())\n",
    "    #dropout layer\n",
    "    l_hid1_drop=lasagne.layers.DropoutLayer(l_hid1,p=0.5)\n",
    "    l_hid2=lasagne.layers.DenseLayer(l_hid1_drop,num_units=800,nonlinearity=lasagne.nonlinearities.rectify,W=lasagne.init.GlorotUniform())\n",
    "    l_hid2_drop=lasagne.layers.DropoutLayer(l_hid2 ,p=0.5)\n",
    "    l_out=lasagne.layers.DenseLayer(l_hid2_drop,num_units=10,nonlinearity=lasagne.nonlinearities.softmax)\n",
    "    return l_out#we return the final output\n",
    "\n",
    "#we have setup the network. now we tell to train the network how to train itself\n",
    "\n",
    "input_var =T.tensor4('inputs')#empty 4 dimensional array\n",
    "target_var=T.ivector('targets')#an empty 1 dimensional integer array tp repr the labels\n",
    "network=build_NN(input_var)\n",
    "#training\n",
    "#1.compute error function\n",
    "prediction=lasagne.layers.get_output(network)\n",
    "loss=lasagne.objectives.categorical_crossentropy(prediction, target_var)\n",
    "loss=loss.mean()\n",
    "\n",
    "#2.updation of weights\n",
    "params=lasagne.layers.get_all_params(network, trainable=True)\n",
    "updates=lasagne.updates.nesterov_momentum(loss,params,learning_rate=0.01,momentum=0.9)\n",
    "\n",
    "#single training step\n",
    "train_fn=theano.function([input_var,target_var],loss,updates=updates)\n"
   ]
  },
  {
   "cell_type": "code",
   "execution_count": 7,
   "metadata": {},
   "outputs": [
    {
     "ename": "MemoryError",
     "evalue": "Unable to allocate 359. MiB for an array with shape (60000, 1, 28, 28) and data type float64",
     "output_type": "error",
     "traceback": [
      "\u001b[1;31m---------------------------------------------------------------------------\u001b[0m",
      "\u001b[1;31mMemoryError\u001b[0m                               Traceback (most recent call last)",
      "\u001b[1;32m<ipython-input-7-afac57641daf>\u001b[0m in \u001b[0;36m<module>\u001b[1;34m\u001b[0m\n\u001b[0;32m      3\u001b[0m \u001b[1;33m\u001b[0m\u001b[0m\n\u001b[0;32m      4\u001b[0m \u001b[1;32mfor\u001b[0m \u001b[0mstep\u001b[0m \u001b[1;32min\u001b[0m \u001b[0mrange\u001b[0m\u001b[1;33m(\u001b[0m\u001b[0mnum_training_steps\u001b[0m\u001b[1;33m)\u001b[0m\u001b[1;33m:\u001b[0m\u001b[1;33m\u001b[0m\u001b[1;33m\u001b[0m\u001b[0m\n\u001b[1;32m----> 5\u001b[1;33m     \u001b[0mtrain_err\u001b[0m\u001b[1;33m=\u001b[0m\u001b[0mtrain_fn\u001b[0m\u001b[1;33m(\u001b[0m\u001b[0mxtr\u001b[0m\u001b[1;33m,\u001b[0m\u001b[0mytr\u001b[0m\u001b[1;33m)\u001b[0m\u001b[1;33m\u001b[0m\u001b[1;33m\u001b[0m\u001b[0m\n\u001b[0m\u001b[0;32m      6\u001b[0m     \u001b[0mprint\u001b[0m\u001b[1;33m(\u001b[0m\u001b[1;34m\"current step is\"\u001b[0m\u001b[1;33m+\u001b[0m\u001b[0mstr\u001b[0m\u001b[1;33m(\u001b[0m\u001b[0mstep\u001b[0m\u001b[1;33m)\u001b[0m\u001b[1;33m)\u001b[0m\u001b[1;33m\u001b[0m\u001b[1;33m\u001b[0m\u001b[0m\n",
      "\u001b[1;32mc:\\users\\satvik\\appdata\\local\\programs\\python\\python38-32\\lib\\site-packages\\theano\\compile\\function_module.py\u001b[0m in \u001b[0;36m__call__\u001b[1;34m(self, *args, **kwargs)\u001b[0m\n\u001b[0;32m    809\u001b[0m                 \u001b[1;32melse\u001b[0m\u001b[1;33m:\u001b[0m\u001b[1;33m\u001b[0m\u001b[1;33m\u001b[0m\u001b[0m\n\u001b[0;32m    810\u001b[0m                     \u001b[1;32mtry\u001b[0m\u001b[1;33m:\u001b[0m\u001b[1;33m\u001b[0m\u001b[1;33m\u001b[0m\u001b[0m\n\u001b[1;32m--> 811\u001b[1;33m                         s.storage[0] = s.type.filter(\n\u001b[0m\u001b[0;32m    812\u001b[0m                             \u001b[0marg\u001b[0m\u001b[1;33m,\u001b[0m \u001b[0mstrict\u001b[0m\u001b[1;33m=\u001b[0m\u001b[0ms\u001b[0m\u001b[1;33m.\u001b[0m\u001b[0mstrict\u001b[0m\u001b[1;33m,\u001b[0m\u001b[1;33m\u001b[0m\u001b[1;33m\u001b[0m\u001b[0m\n\u001b[0;32m    813\u001b[0m                             allow_downcast=s.allow_downcast)\n",
      "\u001b[1;32mc:\\users\\satvik\\appdata\\local\\programs\\python\\python38-32\\lib\\site-packages\\theano\\tensor\\type.py\u001b[0m in \u001b[0;36mfilter\u001b[1;34m(self, data, strict, allow_downcast)\u001b[0m\n\u001b[0;32m    128\u001b[0m                         \u001b[1;31m# http://projects.scipy.org/numpy/ticket/1611\u001b[0m\u001b[1;33m\u001b[0m\u001b[1;33m\u001b[0m\u001b[1;33m\u001b[0m\u001b[0m\n\u001b[0;32m    129\u001b[0m                         \u001b[1;31m# data = data.astype(self.dtype)\u001b[0m\u001b[1;33m\u001b[0m\u001b[1;33m\u001b[0m\u001b[1;33m\u001b[0m\u001b[0m\n\u001b[1;32m--> 130\u001b[1;33m                         \u001b[0mdata\u001b[0m \u001b[1;33m=\u001b[0m \u001b[0mtheano\u001b[0m\u001b[1;33m.\u001b[0m\u001b[0m_asarray\u001b[0m\u001b[1;33m(\u001b[0m\u001b[0mdata\u001b[0m\u001b[1;33m,\u001b[0m \u001b[0mdtype\u001b[0m\u001b[1;33m=\u001b[0m\u001b[0mself\u001b[0m\u001b[1;33m.\u001b[0m\u001b[0mdtype\u001b[0m\u001b[1;33m)\u001b[0m\u001b[1;33m\u001b[0m\u001b[1;33m\u001b[0m\u001b[0m\n\u001b[0m\u001b[0;32m    131\u001b[0m                     \u001b[1;32mif\u001b[0m \u001b[0mup_dtype\u001b[0m \u001b[1;33m!=\u001b[0m \u001b[0mself\u001b[0m\u001b[1;33m.\u001b[0m\u001b[0mdtype\u001b[0m\u001b[1;33m:\u001b[0m\u001b[1;33m\u001b[0m\u001b[1;33m\u001b[0m\u001b[0m\n\u001b[0;32m    132\u001b[0m                         err_msg = (\n",
      "\u001b[1;32mc:\\users\\satvik\\appdata\\local\\programs\\python\\python38-32\\lib\\site-packages\\theano\\misc\\safe_asarray.py\u001b[0m in \u001b[0;36m_asarray\u001b[1;34m(a, dtype, order)\u001b[0m\n\u001b[0;32m     32\u001b[0m         \u001b[0mdtype\u001b[0m \u001b[1;33m=\u001b[0m \u001b[0mtheano\u001b[0m\u001b[1;33m.\u001b[0m\u001b[0mconfig\u001b[0m\u001b[1;33m.\u001b[0m\u001b[0mfloatX\u001b[0m\u001b[1;33m\u001b[0m\u001b[1;33m\u001b[0m\u001b[0m\n\u001b[0;32m     33\u001b[0m     \u001b[0mdtype\u001b[0m \u001b[1;33m=\u001b[0m \u001b[0mnp\u001b[0m\u001b[1;33m.\u001b[0m\u001b[0mdtype\u001b[0m\u001b[1;33m(\u001b[0m\u001b[0mdtype\u001b[0m\u001b[1;33m)\u001b[0m  \u001b[1;31m# Convert into dtype object.\u001b[0m\u001b[1;33m\u001b[0m\u001b[1;33m\u001b[0m\u001b[0m\n\u001b[1;32m---> 34\u001b[1;33m     \u001b[0mrval\u001b[0m \u001b[1;33m=\u001b[0m \u001b[0mnp\u001b[0m\u001b[1;33m.\u001b[0m\u001b[0masarray\u001b[0m\u001b[1;33m(\u001b[0m\u001b[0ma\u001b[0m\u001b[1;33m,\u001b[0m \u001b[0mdtype\u001b[0m\u001b[1;33m=\u001b[0m\u001b[0mdtype\u001b[0m\u001b[1;33m,\u001b[0m \u001b[0morder\u001b[0m\u001b[1;33m=\u001b[0m\u001b[0morder\u001b[0m\u001b[1;33m)\u001b[0m\u001b[1;33m\u001b[0m\u001b[1;33m\u001b[0m\u001b[0m\n\u001b[0m\u001b[0;32m     35\u001b[0m     \u001b[1;31m# Note that dtype comparison must be done by comparing their `num`\u001b[0m\u001b[1;33m\u001b[0m\u001b[1;33m\u001b[0m\u001b[1;33m\u001b[0m\u001b[0m\n\u001b[0;32m     36\u001b[0m     \u001b[1;31m# attribute. One cannot assume that two identical data types are pointers\u001b[0m\u001b[1;33m\u001b[0m\u001b[1;33m\u001b[0m\u001b[1;33m\u001b[0m\u001b[0m\n",
      "\u001b[1;32mc:\\users\\satvik\\appdata\\local\\programs\\python\\python38-32\\lib\\site-packages\\numpy\\core\\_asarray.py\u001b[0m in \u001b[0;36masarray\u001b[1;34m(a, dtype, order)\u001b[0m\n\u001b[0;32m     83\u001b[0m \u001b[1;33m\u001b[0m\u001b[0m\n\u001b[0;32m     84\u001b[0m     \"\"\"\n\u001b[1;32m---> 85\u001b[1;33m     \u001b[1;32mreturn\u001b[0m \u001b[0marray\u001b[0m\u001b[1;33m(\u001b[0m\u001b[0ma\u001b[0m\u001b[1;33m,\u001b[0m \u001b[0mdtype\u001b[0m\u001b[1;33m,\u001b[0m \u001b[0mcopy\u001b[0m\u001b[1;33m=\u001b[0m\u001b[1;32mFalse\u001b[0m\u001b[1;33m,\u001b[0m \u001b[0morder\u001b[0m\u001b[1;33m=\u001b[0m\u001b[0morder\u001b[0m\u001b[1;33m)\u001b[0m\u001b[1;33m\u001b[0m\u001b[1;33m\u001b[0m\u001b[0m\n\u001b[0m\u001b[0;32m     86\u001b[0m \u001b[1;33m\u001b[0m\u001b[0m\n\u001b[0;32m     87\u001b[0m \u001b[1;33m\u001b[0m\u001b[0m\n",
      "\u001b[1;31mMemoryError\u001b[0m: Unable to allocate 359. MiB for an array with shape (60000, 1, 28, 28) and data type float64"
     ]
    }
   ],
   "source": [
    "#step3\n",
    "num_training_steps=10\n",
    " \n",
    "for step in range(num_training_steps):\n",
    "    train_err=train_fn(xtr,ytr)\n",
    "    print(\"current step is\"+str(step))"
   ]
  },
  {
   "cell_type": "code",
   "execution_count": 6,
   "metadata": {},
   "outputs": [
    {
     "data": {
      "text/plain": [
       "array([[0.04973123, 0.17791987, 0.08152775, 0.10336447, 0.08713984,\n",
       "        0.0909255 , 0.06583977, 0.17837497, 0.05799218, 0.10718442]])"
      ]
     },
     "execution_count": 6,
     "metadata": {},
     "output_type": "execute_result"
    }
   ],
   "source": [
    "#check with 1 image\n",
    "test_prediction=lasagne.layers.get_output(network)\n",
    "val_fn=theano.function([input_var],test_prediction)\n",
    "\n",
    "val_fn([xtes[0]])"
   ]
  },
  {
   "cell_type": "code",
   "execution_count": 8,
   "metadata": {},
   "outputs": [
    {
     "data": {
      "text/plain": [
       "5"
      ]
     },
     "execution_count": 8,
     "metadata": {},
     "output_type": "execute_result"
    }
   ],
   "source": [
    "ytes[0]"
   ]
  },
  {
   "cell_type": "code",
   "execution_count": null,
   "metadata": {},
   "outputs": [],
   "source": [
    "test_prediction=lasagne.layers.get_output(network)\n",
    "test_acc=T.mean(T.eq(T.argmax(test_prediction,axis=1),target_var),dtype=theano.config.floatX)\n",
    "\n",
    "acc_fn=theano.function([input_var,target_var],test_acc)\n",
    "acc_fn(xtes,ytes)"
   ]
  }
 ],
 "metadata": {
  "kernelspec": {
   "display_name": "Python 3",
   "language": "python",
   "name": "python3"
  },
  "language_info": {
   "codemirror_mode": {
    "name": "ipython",
    "version": 3
   },
   "file_extension": ".py",
   "mimetype": "text/x-python",
   "name": "python",
   "nbconvert_exporter": "python",
   "pygments_lexer": "ipython3",
   "version": "3.8.2"
  }
 },
 "nbformat": 4,
 "nbformat_minor": 4
}
